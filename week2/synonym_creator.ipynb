{
 "cells": [
  {
   "cell_type": "code",
   "execution_count": 5,
   "metadata": {},
   "outputs": [
    {
     "name": "stderr",
     "output_type": "stream",
     "text": [
      "Warning : `load_model` does not return WordVectorModel or SupervisedModel any more, but a `FastText` object which is very similar.\n"
     ]
    }
   ],
   "source": [
    "import pandas as pd\n",
    "import fasttext\n",
    "model = fasttext.load_model(\"/workspace/datasets/fasttext/title_model.bin\")\n",
    "\n",
    "\n"
   ]
  },
  {
   "cell_type": "code",
   "execution_count": 8,
   "metadata": {},
   "outputs": [],
   "source": [
    "df = pd.read_table(\"/workspace/datasets/fasttext/top_words.txt\", names = [\"words\"])\n",
    "\n",
    "df[\"synonyms\"] = df[\"words\"].apply(lambda x: model.get_nearest_neighbors(x))\n",
    "\n",
    "def filter_func(syns):\n",
    "    ret_list = []\n",
    "    for prob, word in syns:\n",
    "        if prob>0.75:\n",
    "            ret_list.append(word)\n",
    "    if len(ret_list) ==0:\n",
    "        return \"\"\n",
    "    else:\n",
    "        return \", \".join(ret_list)\n",
    "\n",
    "def row_joiner(row):\n",
    "    if len(row[\"synonyms\"]) == 0:\n",
    "        return row[\"words\"]\n",
    "    else:\n",
    "        return row[\"words\"] + \", \" + row[\"synonyms\"]\n",
    "\n",
    "df[\"synonyms\"] = df[\"synonyms\"].apply(filter_func)\n",
    "\n",
    "df = df.apply(row_joiner, axis = 1)\n",
    "\n",
    "df.to_csv(\"/workspace/datasets/fasttext/synonyms.csv\")"
   ]
  }
 ],
 "metadata": {
  "kernelspec": {
   "display_name": "Python 3.8.13 64-bit ('3.8.13')",
   "language": "python",
   "name": "python3"
  },
  "language_info": {
   "codemirror_mode": {
    "name": "ipython",
    "version": 3
   },
   "file_extension": ".py",
   "mimetype": "text/x-python",
   "name": "python",
   "nbconvert_exporter": "python",
   "pygments_lexer": "ipython3",
   "version": "3.8.13"
  },
  "orig_nbformat": 4,
  "vscode": {
   "interpreter": {
    "hash": "110cc1dee26208153f2972f08a2ad52b6a56238dc66d48e87fb757ef2996db56"
   }
  }
 },
 "nbformat": 4,
 "nbformat_minor": 2
}
